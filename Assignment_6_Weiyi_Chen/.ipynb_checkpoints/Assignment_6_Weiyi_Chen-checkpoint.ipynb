{
 "cells": [
  {
   "cell_type": "markdown",
   "metadata": {},
   "source": [
    "## Lecture 6 (Exotics Markets) Assignment, MTH 9865\n",
    "\n",
    "Due start of class, October 14, 2015\n",
    "\n",
    "#### Student: Weiyi Chen\n",
    "\n",
    "### Question 1 (6 marks)\n",
    "\n",
    "In class we looked at Gaussian copulas for pricing two-asset derivatives. We talked about using that model to price cross-pair options based on the two USD-pair option markets, calibrating the Gaussian copula correlation parameter such that the model reproduces the ATM cross option price.\n",
    "\n",
    "When we do that, the model tends to underprice the butterfly – ie the implied volatility smile that comes out of the model is lower than the market. We said that was due to the fact that the model does not include any premium for stochastic correlation, which it should because correlation is not constant.\n",
    "\n",
    "A stochastic correlation only affects the value of a derivative if its exposure to that correlation is non-linear. Let’s consider a specific case of the Gaussian copula to examine that: one where the RR and BF of the USD pairs is zero. In that case, their pricing is just Black-Scholes pricing, and if we assume a constant correlation, the pricing of the cross option is Black-Scholes with an implied volatility\n",
    "\n",
    "$$\n",
    "\\sigma_x = \\sqrt{\\sigma_1^2 + \\sigma_2^2 - 2\\rho\\sigma_1\\sigma_2}\n",
    "$$\n",
    "\n",
    "Calculate the “gamma” of the cross option price with respect to the correlation parameter . Assume a market where the two USD-pair spots are 1, interest rates are zero, time to expiration is 0.5y, the USD-pair volatilities are both equal to 10%, and the correlation is +25%, and plot the correlation gamma as a function of strike for the cross-pair options.\n",
    "\n",
    "Discuss the qualitative impact stochastic correlation should have on the cross-pair implied volatilities based on that plot.\n",
    "\n"
   ]
  },
  {
   "cell_type": "markdown",
   "metadata": {},
   "source": [
    "#### Solution:\n",
    "\n",
    "The \"delta\" is \n",
    "\n",
    "$$\n",
    "\\begin{split}\n",
    "\\frac{\\partial C}{\\partial P} &= \\frac{\\partial C}{\\partial \\sigma_x} \\frac{\\partial \\sigma_x}{\\partial P} \\\\\n",
    "&= S\\sqrt{\\frac{T}{2\\pi}} \\left[ e^{-\\frac{d_1^2}{2}} (-\\frac{\\sigma_1\\sigma_2}{\\sigma_x})\\right]\n",
    "\\end{split}\n",
    "$$\n",
    "\n",
    "The \"gamma\" is\n",
    "\n",
    "$$\n",
    "\\begin{split}\n",
    "\\frac{\\partial^2 C}{\\partial P^2} = S\\sqrt{\\frac{T}{2\\pi}}  \\frac{\\partial\\left[ e^{-\\frac{d_1^2}{2}} (-\\frac{\\sigma_1\\sigma_2}{\\sigma_x})\\right]}{\\partial P}\n",
    "\\end{split}\n",
    "$$\n",
    "\n",
    "We finally derive\n",
    "\n",
    "$$ \n",
    "\\frac{\\partial^2 C}{\\partial P^2} = S\\sqrt{\\frac{T}{2\\pi}} \\left[ e^{-\\frac{d_1^2}{2}} (-\\frac{\\sigma_1^2\\sigma_2^2}{\\sigma_x^2})\\right]\\left[d_1 (\\frac{1}{2}\\sqrt{T}-\\frac{\\ln(S/K)}{\\sigma^2\\sqrt{T}}) + \\frac{1}{\\sigma_x} \\right]\n",
    "$$"
   ]
  },
  {
   "cell_type": "code",
   "execution_count": null,
   "metadata": {
    "collapsed": true
   },
   "outputs": [],
   "source": [
    "from math import *\n",
    "\n",
    "S = 1.\n",
    "T = 0.5\n",
    "sigma1 = sigma2 = .1\n",
    "rho = 0.25\n",
    "\n",
    "def sigmaX(sigma1, sigma2, rho):\n",
    "    return sqrt(sigma1**2 + sigma2**2 - 2*rho*sigma1*sigma2)\n",
    "\n",
    "def gamma(S, T, sigma1, sigma2, rho):\n",
    "    return S*sqrt(T/2/pi) * exp(-d1**2/2) * (-sigma_1**2 * sigma2**2 / sigmaX**2) * (d1*(-log(S/K)))"
   ]
  },
  {
   "cell_type": "markdown",
   "metadata": {},
   "source": [
    "The plot is:\n",
    "\n",
    "<img src='q2.png'>\n",
    "\n",
    "So if we have the “rho gamma” as the above shape against strike, then we can long options on the right peak and short ATM options so that the portfolio’s “rho delta” is 0 but the “rho gamma” is positive. Thus when rho is going up, rho delta becomes positive and we make money; when rho is going down, rho delta becomes negative so we also make money. Thus the price for ATM options will go down and “right-peak” options’ prices will go up. Same thing happen on the left peak. Thus we will observe a vol smile if rho is stochastic."
   ]
  },
  {
   "cell_type": "markdown",
   "metadata": {},
   "source": [
    "### Question 2 (3 marks)\n",
    "\n",
    "Describe the market dynamic that is most important for knockout out pricing, and compare that to the market dynamic that is the most important for volatility swap pricing.\n",
    "\n",
    "For each, explain why that market dynamic is important to the pricing.\n"
   ]
  },
  {
   "cell_type": "markdown",
   "metadata": {},
   "source": [
    "#### Solution\n",
    "\n",
    "For knockout pricing, the most important dynamics is risk-reversal beta. For example, if we have a down-and-out call option stroke at $K$, barrier is $B<K$, expiration is $T$. Then we can replicate it by long 1 unit of a call with same expiration $T$, same strike $K$ and short 1 unit of put with same expiration $T$, strike $K’=B^2/K$. If the spot touch the barrier, then we need to unwind the replication portfolio since the DAO option should worth nothing at expiry. The unwinding cost will depend very much on the price change of the call and the put options, which reflects how the risk-reversal moves when the spot goes to the barrier, which is the risk-reversal beta.\n",
    "\n",
    "For volatility swap, the most important dynamics is the volatility of the variance swap fair strike. We can almost hedge a volatility swap with a variance swap. But when the variance swap fair strike changes, since the square root function is a concave function, then the negative convexity will make the fair strike of volatility swap less than the fair strike of the variance swap. Thus, how much the variance swap fair strike can move (so the volatility of that) will be most important. And the volatility of ATM variance will be a good representative of the volatility of variance swap fair strike.\n"
   ]
  },
  {
   "cell_type": "markdown",
   "metadata": {},
   "source": [
    "\n",
    "### Question 3 (4 marks)\n",
    "\n",
    "Consider a dual digital option that pays \\$1 if EURUSD is above a strike $K_1$ and GBPUSD is above a strike $K_2$. All discount rates are zero. The price of the EURUSD European digital option (paying \\$1 if EURUSD is above $K_1$) is $65\\%$ and the price of the GBPUSD European digital option (paying \\$1 if GBPUSD is above $K_2$) is $30\\%$.\n",
    "\n",
    "Plot the price of the dual digital option priced under a Gaussian copula model, for correlation parameter ranging from $-100\\%$ to $+100\\%$. Qualitatively explain the behavior of the price sensitivity to correlation."
   ]
  },
  {
   "cell_type": "markdown",
   "metadata": {},
   "source": [
    "#### Solution\n",
    "\n",
    "The plot of dual option price against correlations is:\n",
    "\n",
    "<img src='q3.png'>\n",
    "\n",
    "Since the payoff of the dual option is 1 only if both USD pairs are in the money, so actually we are longing the correlation. This is because if the two pairs are negative correlated, when one is in the money then the probability that the other is also in the money will decrease. On the contrary, if they are positive correlated, when one is in the money, the probability that the other is also in the money will increase. So we can see the price is positively correlated with the correlation. Also, if they are perfectly positively correlated, then the price should equal to the option on which pair that has the lowest probability of in the money, which is 30%, and when they are perfectly negatively correlated, the dual option price should equal to 0."
   ]
  },
  {
   "cell_type": "markdown",
   "metadata": {},
   "source": [
    "### Question 4 (10 marks)\n",
    "\n",
    "Investigate knockout pricing under the LV/SV approximation model."
   ]
  }
 ],
 "metadata": {
  "kernelspec": {
   "display_name": "Python 3",
   "language": "python",
   "name": "python3"
  },
  "language_info": {
   "codemirror_mode": {
    "name": "ipython",
    "version": 3
   },
   "file_extension": ".py",
   "mimetype": "text/x-python",
   "name": "python",
   "nbconvert_exporter": "python",
   "pygments_lexer": "ipython3",
   "version": "3.4.3"
  }
 },
 "nbformat": 4,
 "nbformat_minor": 0
}
