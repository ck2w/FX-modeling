{
 "cells": [
  {
   "cell_type": "markdown",
   "metadata": {},
   "source": [
    "## Lecture 4 (Options Markets) Assignment, MTH 9865\n",
    "\n",
    "Due start of class, October 7, 2015\n",
    "\n",
    "#### Student: Weiyi Chen\n",
    "\n",
    "### Question 1 (4 marks)\n",
    "\n",
    "The current time is Wednesday at 1pm and you see the overnight implied volatility (for 10am expiration on Thursday) trading at 9%. The FX markets are open for trading every hour between now and tomorrow at 10am.\n",
    "\n",
    "The Federal Reserve Chairwoman is speaking about the economy from 2-3pm, and that event adds an extra 0.5 trading days worth of variance on top of the usual variance for that time period.\n",
    "\n",
    "What should the overnight implied volatility be at 3pm, all else being equal?\n"
   ]
  },
  {
   "cell_type": "markdown",
   "metadata": {},
   "source": [
    "#### Solution:\n",
    "\n",
    "##### Trading time\n",
    "First case:\n",
    "- 21 normal \"trading hours\" from Wed 1pm to Thu 10am\n",
    "- Plus 12 extra trading hours from the FRC event\n",
    "- Totals 33 trading hours\n",
    "\n",
    "Second case:\n",
    "- Totals 19 trading hours\n",
    "\n",
    "##### Calendar time\n",
    "- Actual days/365 = 1/365\n",
    "\n",
    "##### Total variance\n",
    "Get the total variance from implied vol^2 * calendar time\n",
    "$$ 0.09^2 \\times 1/365 = 2.219 \\times 10^{-5} $$\n",
    "\n",
    "##### Trading time variance\n",
    "Convert that into a trading time vol using trading time vol^2 * trading time = total variance\n",
    "$$ \\text{TT vol} = \\sqrt{2.219 \\times 10^{-5} / 33} = 8.200 \\times 10^{-4} $$\n",
    "\n",
    "##### New Total Variance\n",
    "Use new trading time to get new total variance, \n",
    "$$ \\text{Variance} = \\text{(TT vol)}^2 \\times \\text{(trading time in hours)} $$\n",
    "Keep the same TT vol as before – we assume this is smooth in calendar time\n",
    "$$ \\text{Variance} = (8.200 \\times 10^{-4})^2 \\times 19 = 1.278 \\times 10^{-5}$$\n",
    "\n",
    "##### Market-convention implied vol\n",
    "Convert total variance to market-convention implied vol\n",
    "$$ \\text{Implied vol} = \\sqrt{\\text{total variance} / \\text{calendar time}} = \\sqrt{1.278 \\times 10^{-5} / (1/365)} = 6.83 \\times 10^{-2}$$\n",
    "\n",
    "Therefore the overnight implied vol at 3pm is 6.83%."
   ]
  },
  {
   "cell_type": "code",
   "execution_count": 8,
   "metadata": {
    "collapsed": false
   },
   "outputs": [
    {
     "data": {
      "text/plain": [
       "0.06829082195753952"
      ]
     },
     "execution_count": 8,
     "metadata": {},
     "output_type": "execute_result"
    }
   ],
   "source": [
    "sqrt(sqrt(0.09**2 * 1./365 / 33)**2 * 19 / (1./365))"
   ]
  },
  {
   "cell_type": "markdown",
   "metadata": {},
   "source": [
    "### Question 2 (3 marks)\n",
    "\n",
    "In stochastic volatility models, why is there a smile? Describe the genesis of the smile in terms of vega gamma.\n",
    "\n",
    "Similarly, describe why stochastic volatility models generate a skew, in terms of vega dspot.\n",
    "\n",
    "#### Solution\n"
   ]
  },
  {
   "cell_type": "markdown",
   "metadata": {
    "collapsed": false
   },
   "source": [
    "##### Smile\n",
    "\n",
    "Definition: The butterfly (smile) comes from “vega gamma”, the derivative of vega with respect to volatility, which comes from volatility of volatility.\n",
    "\n",
    "To describe the genesis, we\n",
    "\n",
    "- buy an option with strike such that vega gamma is large (now long vega and long vega gamma)\n",
    "- vega hedge with an appropriate amount of ATM option (ATM option has zero vega gamma, so still long vega gamma)\n",
    "- Now whichever way vol moves we make money\n",
    "    - Buy high strike or low strike options at the flat-vol price\n",
    "    - Bids them up and raises their prices, and therefore their implied volatilities: that’s a smile because the effective is the same for high and low strike options\n",
    "\n",
    "##### Skew\n",
    "\n",
    "Definition: The convexity that drives risk reversal (skew) value is vega dspot: d(vega)/d(spot), which comes from spot/vol correlation.\n",
    "\n",
    "To describe the genesis, we\n",
    "\n",
    "- Buy a high strike option (positive vega dspot, positive vega)\n",
    "- Sell enough ATM to vage hedge (ATM options has zero vega dspot, still long vega dspot)\n",
    "- Assume positive spot/vol correlation\n",
    "    - if spot moves up, then vol moves up, then vega turns positive, we make money\n",
    "    - if spot moves down, then vol moves down, then vega turns negative, we still make money\n",
    "\n",
    "Reverse is true if you buy a low strike option, similar genesis follows. With positive spot/vol correlation, traders bid up high strike options and offer on low strike options, which drives the skew. (Even if with negative spot/vol correlation, it leads to a negative skew.)"
   ]
  },
  {
   "cell_type": "markdown",
   "metadata": {},
   "source": [
    "\n",
    "### Question 3 (2 marks)\n",
    "\n",
    "Why do most FX shops use a “sticky delta” volatility market model when defining delta for hedging purposes, even though that might not give the most accurate estimate of how implied volatilities, and hence portfolio prices, change when spot moves?\n"
   ]
  },
  {
   "cell_type": "markdown",
   "metadata": {},
   "source": [
    "#### Solution\n",
    "\n",
    "“Sticky delta” is vol-by-delta stays fixed as spot moves, which is most common in FX markets since vol-by-delta is quoting convention.\n",
    "\n",
    "Most desks use sticky delta, which mostly because they mark vol by delta and want to think about PNL that way. If volatility (as an asset) is relatively liquid then it doesn’t matter much\n",
    "\n",
    "\n"
   ]
  },
  {
   "cell_type": "markdown",
   "metadata": {},
   "source": [
    "### Question 4 (4 marks)\n",
    "\n",
    "Consider an ATM EURGBP option with 0.5y to expiration. Assume the EURGBP ATM volatility is 3.5%, the EURUSD ATM volatility is 8.5%, and the GBPUSD ATM volatility is 7.5%. What is the implied correlation between EURUSD and GBPUSD spots?\n",
    "\n",
    "EURUSD spot is 1.25 and GBPUSD spot is 1.56; assume zero interest rates.\n",
    "\n",
    "Use the Black-Scholes vega formula to calculate the vegas of all three options and determine the notionals of EURUSD and GBPUSD options needed to hedge the vegas of 1 EUR notional of the EURGBP option, assuming correlation stays constant."
   ]
  },
  {
   "cell_type": "markdown",
   "metadata": {},
   "source": [
    "#### Solution\n",
    "\n",
    "##### Implied correlation\n",
    "\n",
    "The cross volatility $σ_x$ can be expressed in terms of the two USD-pair volatilities plus a correlation, \n",
    "\n",
    "$$ \\sigma_x = \\sqrt{\\sigma_1^2 + \\sigma_2^2 - 2\\rho\\sigma_1\\sigma_2} $$\n",
    "\n",
    "therefore\n",
    "\n",
    "$$ \\rho = \\frac{\\sigma_1^2 + \\sigma_2^2 - \\sigma_x^2}{2\\sigma_1\\sigma_2} = 0.912 $$"
   ]
  },
  {
   "cell_type": "code",
   "execution_count": 23,
   "metadata": {
    "collapsed": false
   },
   "outputs": [
    {
     "data": {
      "text/plain": [
       "0.9117647058823529"
      ]
     },
     "execution_count": 23,
     "metadata": {},
     "output_type": "execute_result"
    }
   ],
   "source": [
    "rho = (0.085**2 + 0.075**2 - 0.035**2) / (2*0.085*0.075)\n",
    "rho"
   ]
  },
  {
   "cell_type": "markdown",
   "metadata": {},
   "source": [
    "##### Vega calculation\n",
    "\n",
    "Black-Scholes vaga formula is \n",
    "\n",
    "$$ vega = S N'(d_1) \\sqrt{T-t}\\ $$\n",
    "\n",
    "where $N'(x)$ denote the standard normal probability density function,\n",
    "\n",
    "$$ N'(x) = \\frac{1}{\\sqrt{2\\pi}} e^{-\\frac{x^2}{2}} $$\n",
    "\n",
    "and \n",
    "\n",
    "\\begin{align}\n",
    "     d_1 &= \\frac{1}{\\sigma\\sqrt{T - t}}\\left[\\ln\\left(\\frac{S}{K}\\right) + \\left(r + \\frac{\\sigma^2}{2}\\right)(T - t)\\right] = \\frac{\\sigma}{2}\\sqrt{T - t}\n",
    "\\end{align}\n",
    "\n",
    "therefore \n",
    "\n",
    "$$ vega =  \\sqrt{\\frac{T-t}{2\\pi}} S e^{-\\frac{\\sigma^2(T-t)}{8}}$$"
   ]
  },
  {
   "cell_type": "code",
   "execution_count": 25,
   "metadata": {
    "collapsed": false
   },
   "outputs": [
    {
     "name": "stdout",
     "output_type": "stream",
     "text": [
      "EURUSD 1.107283536184776\n",
      "GBPUSD 1.3820280490535959\n",
      "EURGBP 0.7100633624208024\n"
     ]
    }
   ],
   "source": [
    "import math\n",
    "\n",
    "def vega(S, T, t, sigma):\n",
    "    return sqrt((T-t)/2.*math.pi) * S * exp(-sigma**2*(T-t)/8.)\n",
    "\n",
    "sigma_1 = 0.085\n",
    "sigma_2 = 0.075\n",
    "sigma_x = 0.035\n",
    "\n",
    "vega_1 = vega(1.25, 0.5, 0, sigma_1)\n",
    "vega_2 = vega(1.56, 0.5, 0, sigma_2)\n",
    "vega_x = vega(1.25/1.56, 0.5, 0, sigma_x)\n",
    "\n",
    "print(\"EURUSD\", vega_1)\n",
    "print(\"GBPUSD\", vega_2)\n",
    "print(\"EURGBP\", vega_x)"
   ]
  },
  {
   "cell_type": "markdown",
   "metadata": {},
   "source": [
    "Now we've the vegas of three currencies, we are going to determine the notionals of EURUSD and GBPUSD options needed to hedge the vegas of 1 EUR notional of the EURGBP option. The portfolio is like\n",
    "\n",
    "$$ \\Pi = S_x + N_1S_1 + N_2S_2 $$\n",
    "\n",
    "To hedge vega, we require\n",
    "\n",
    "$$ \\frac{\\partial\\Pi}{\\partial\\sigma_1} = vega_x\\frac{\\partial\\sigma_x}{\\partial\\sigma_1} + N_1\\cdot vega_1 + N_2\\cdot vaga_2 \\frac{\\partial\\sigma_2}{\\partial\\sigma_1} = 0 $$\n",
    "\n",
    "and \n",
    "\n",
    "$$ \\frac{\\partial\\Pi}{\\partial\\sigma_2} = vega_x\\frac{\\partial\\sigma_x}{\\partial\\sigma_2} + N_2\\cdot vega_2 + N_1\\cdot vaga_1 \\frac{\\partial\\sigma_1}{\\partial\\sigma_2} = 0 $$\n",
    "\n",
    "Since $\\sigma_1$ and $\\sigma_2$ are independent, we have \n",
    "\n",
    "$$\\frac{\\partial\\sigma_2}{\\partial\\sigma_1} = \\frac{\\partial\\sigma_1}{\\partial\\sigma_2} = 0$$\n",
    "\n",
    "we finally derive\n",
    "\n",
    "$$ N_1 = -\\frac{vega_x}{vega_1}\\cdot\\frac{\\sigma_1-\\rho\\sigma_2}{\\sigma_x}, \n",
    "   N_2 = -\\frac{vega_x}{vega_2}\\cdot\\frac{\\sigma_2-\\rho\\sigma_1}{\\sigma_x} $$\n",
    "\n"
   ]
  },
  {
   "cell_type": "code",
   "execution_count": 26,
   "metadata": {
    "collapsed": false
   },
   "outputs": [
    {
     "name": "stdout",
     "output_type": "stream",
     "text": [
      "-0.3044666638286625 0.03669882940235391\n"
     ]
    }
   ],
   "source": [
    "N_1 = -(vega_x/vega_1) * (sigma_1-rho*sigma_2) / sigma_x\n",
    "N_2 = -(vega_x/vega_2) * (sigma_2-rho*sigma_1) / sigma_x\n",
    "print(N_1, N_2)"
   ]
  },
  {
   "cell_type": "markdown",
   "metadata": {},
   "source": [
    "The final answer is \n",
    "\n",
    "$$ N_1 = -0.304, N_2 = 0.0367 $$"
   ]
  },
  {
   "cell_type": "markdown",
   "metadata": {},
   "source": [
    "### Question 5 (10 marks)\n",
    "\n",
    "In this question you will look at implied correlations and see how much moves in implied correlation contribute to moves in cross volatility, versus moves in the underlying USD-pair volatilities.\n",
    "\n",
    "#### Solution"
   ]
  },
  {
   "cell_type": "code",
   "execution_count": 35,
   "metadata": {
    "collapsed": false
   },
   "outputs": [
    {
     "name": "stdout",
     "output_type": "stream",
     "text": [
      "Tenor: 1w\n",
      "Statistics for day-to-day changes in the cross ATM vol:\n",
      "count    1621.000000\n",
      "mean        0.005345\n",
      "std         1.795480\n",
      "min       -15.880000\n",
      "25%        -0.580000\n",
      "50%         0.000000\n",
      "75%         0.505000\n",
      "max        18.805000\n",
      "Name: AUDJPY 1w, dtype: float64\n",
      "\n",
      "Statistics for difference between the predicted and the true cross vol:\n",
      "count    1.621000e+03\n",
      "mean     4.047207e-03\n",
      "std      1.186038e+00\n",
      "min     -1.392378e+01\n",
      "25%     -3.995371e-01\n",
      "50%     -1.776357e-15\n",
      "75%      4.087137e-01\n",
      "max      1.495141e+01\n",
      "dtype: float64\n",
      "\n",
      "\n",
      "Tenor: 1m\n",
      "Statistics for day-to-day changes in the cross ATM vol:\n",
      "count    1621.000000\n",
      "mean        0.004625\n",
      "std         1.096523\n",
      "min        -8.627500\n",
      "25%        -0.387500\n",
      "50%        -0.020000\n",
      "75%         0.302500\n",
      "max        12.547500\n",
      "Name: AUDJPY 1m, dtype: float64\n",
      "\n",
      "Statistics for difference between the predicted and the true cross vol:\n",
      "count    1621.000000\n",
      "mean       -0.000849\n",
      "std         0.742401\n",
      "min        -7.311626\n",
      "25%        -0.189330\n",
      "50%        -0.002107\n",
      "75%         0.194267\n",
      "max         7.866179\n",
      "dtype: float64\n",
      "\n",
      "\n",
      "Tenor: 6m\n",
      "Statistics for day-to-day changes in the cross ATM vol:\n",
      "count    1621.000000\n",
      "mean        0.003956\n",
      "std         0.575049\n",
      "min        -3.722500\n",
      "25%        -0.215000\n",
      "50%        -0.015000\n",
      "75%         0.160000\n",
      "max         4.922500\n",
      "Name: AUDJPY 6m, dtype: float64\n",
      "\n",
      "Statistics for difference between the predicted and the true cross vol:\n",
      "count    1621.000000\n",
      "mean       -0.000562\n",
      "std         0.383226\n",
      "min        -3.415851\n",
      "25%        -0.122660\n",
      "50%         0.008791\n",
      "75%         0.130764\n",
      "max         5.884164\n",
      "dtype: float64\n",
      "\n",
      "\n",
      "Tenor: 1y\n",
      "Statistics for day-to-day changes in the cross ATM vol:\n",
      "count    1621.000000\n",
      "mean        0.003694\n",
      "std         0.431407\n",
      "min        -2.482500\n",
      "25%        -0.167500\n",
      "50%        -0.005000\n",
      "75%         0.115000\n",
      "max         3.717500\n",
      "Name: AUDJPY 1y, dtype: float64\n",
      "\n",
      "Statistics for difference between the predicted and the true cross vol:\n",
      "count    1621.000000\n",
      "mean       -0.000429\n",
      "std         0.315963\n",
      "min        -3.265282\n",
      "25%        -0.099757\n",
      "50%        -0.000073\n",
      "75%         0.106490\n",
      "max         4.605420\n",
      "dtype: float64\n",
      "\n",
      "\n"
     ]
    }
   ],
   "source": [
    "\"\"\"\n",
    "Copyright:   Copyright (C) 2015 Baruch College FX modeling - All Rights Reserved\n",
    "Description: Analysis on implied correlations and see how much moves in implied \n",
    "             correlation contribute to moves in cross volatility, versus moves in \n",
    "             the underlying USD-pair volatilities.\n",
    "Author:      Weiyi Chen\n",
    "\"\"\"\n",
    "\n",
    "# python imports\n",
    "import datetime\n",
    "\n",
    "# 3rd party imports\n",
    "import numpy\n",
    "import pandas\n",
    "\n",
    "def impliedCorr_analytics(pairx, pair1, pair2, tenor, sign, startDate, endDate):\n",
    "    '''\n",
    "    Function that construct two DataFrames: one holding day-to-day changes in the \n",
    "    cross ATM volatility, and one holding differences between the predicted cross \n",
    "    volatility (assuming the implied correlation from the day before) and the true \n",
    "    cross volatility. The function should print out statistics on both those series.\n",
    "\n",
    "    \n",
    "    :param pairx:     name of the cross pair (as 'AUDJPY') \n",
    "    :type  pairx:     string\n",
    "    :param pair1:     name of the first pair (as 'AUDUSD') \n",
    "    :type  pair1:     string\n",
    "    :param pair2:     name of the second pair (as 'USDJPY') \n",
    "    :type  pair2:     string\n",
    "    :param tenor:     a string tenor (like '3m')\n",
    "    :type  tenor:     string\n",
    "    :param sign:      a flag to define whether the cross spot is the product or the ratio \n",
    "                      of the two USD spots (which affects the sign of the correlation)\n",
    "    :type  sign:      bool, True if ratio, False if product\n",
    "    :param startDate: the start date of the historical window\n",
    "    :type  startDate: datetime\n",
    "    :param endDate:   the end date of the historical window\n",
    "    :type  endDate:   datetime\n",
    "    \n",
    "    '''\n",
    "    \n",
    "    # It should start by loading the data for the ATM implied volatility for the three \n",
    "    # tenors from the spreadsheet into pandas DataFrames \n",
    "\n",
    "    df = pandas.read_excel('fx_vol_data.xlsx')\n",
    "    df = df[(df['Date']>=startDate) & (df['Date']<=endDate)]\n",
    "    dfx = df[pairx+' '+tenor]\n",
    "    df1 = df[pair1+' '+tenor]\n",
    "    df2 = df[pair2+' '+tenor]\n",
    "\n",
    "    # and then calculate a pandas DataFrame of implied correlations.\n",
    "\n",
    "    impliedCorr = ((dfx**2 - df1**2 - df2**2) / (2.*df1*df2)) * (1-sign)\n",
    "    \n",
    "    # The next step: use the correlation from date i, along with the implied volatilities \n",
    "    # for the USD pairs on date i+1, to predict the cross volatility on date i+1. Do this \n",
    "    # with the pandas DataFrames you have already created.\n",
    "\n",
    "    dfx_predicted = numpy.sqrt(df1**2 + df2**2 + 2*impliedCorr.shift(1)*df1*df2)\n",
    "    \n",
    "    # Finally, construct two DataFrames: one holding day-to-day changes in the cross ATM \n",
    "    # volatility, and one holding differences between the predicted cross volatility \n",
    "    # (assuming the implied correlation from the day before) and the true cross volatility.\n",
    "\n",
    "    diffs_1d  = dfx - dfx.shift(1)\n",
    "    diffs_err = dfx_predicted - dfx\n",
    "    \n",
    "    # The function should print out statistics on both those series.\n",
    "    \n",
    "    print('Statistics for day-to-day changes in the cross ATM vol:')\n",
    "    print(diffs_1d.describe())\n",
    "    print()\n",
    "    \n",
    "    print('Statistics for difference between the predicted and the true cross vol:')\n",
    "    print(diffs_err.describe())\n",
    "    print()\n",
    "\n",
    "def main():    \n",
    "    for tenor in ['1w','1m','6m','1y']:\n",
    "        print('Tenor:',tenor)\n",
    "        impliedCorr_analytics(\n",
    "            pairx = 'AUDJPY',\n",
    "            pair1 = 'AUDUSD',\n",
    "            pair2 = 'USDJPY',\n",
    "            tenor = tenor,\n",
    "            sign = False,\n",
    "            startDate = datetime.date(2007,1,1),\n",
    "            endDate = datetime.date(2013,5,31),\n",
    "        )\n",
    "        print()\n",
    "\n",
    "if __name__=='__main__':\n",
    "    main()"
   ]
  },
  {
   "cell_type": "markdown",
   "metadata": {},
   "source": [
    "Statistics for day-to-day changes in the cross ATM vol:\n",
    "\n",
    "|      | 1w         | 1m         | 6m         | 1y         |\n",
    "|------|------------|------------|------------|------------|\n",
    "| mean | 0.005345   | 0.004625   | 0.003956   | 0.003694   |\n",
    "| std  | 1.795480   | 1.096523   | 0.575049   | 0.431407   |\n",
    "| min  | -15.880000 | -8.627500  | -3.722500  | -2.482500  |\n",
    "| max  | 18.805000  | 12.547500  | 4.922500   |  3.717500  |\n",
    "\n",
    "Statistics for difference between the predicted and the true cross vol:\n",
    "\n",
    "|      | 1w         | 1m         | 6m         | 1y         |\n",
    "|------|------------|------------|------------|------------|\n",
    "| mean | 4.047207e-03  | -0.000849 | -0.000562  | -0.000429  |\n",
    "| std  | 1.186038e+00  | 0.742401  | 0.383226   | 0.315963   |\n",
    "| min  | -1.392378e+01 | -7.311626 | -3.415851  | -3.265282  |\n",
    "| max  | 1.495141e+01  | 7.866179  | 4.922500   |  4.605420  |\n",
    "\n",
    "Comments:\n",
    "\n",
    "As the tenor goes up, both standard deviations as well as the maximum and minimum deviations of the predicted difference and daily changes goes down. It's mainly because the market becomes more stable when the tenor goes up. And our predicted cross vol would become more accurate."
   ]
  }
 ],
 "metadata": {
  "kernelspec": {
   "display_name": "Python 3",
   "language": "python",
   "name": "python3"
  },
  "language_info": {
   "codemirror_mode": {
    "name": "ipython",
    "version": 3
   },
   "file_extension": ".py",
   "mimetype": "text/x-python",
   "name": "python",
   "nbconvert_exporter": "python",
   "pygments_lexer": "ipython3",
   "version": "3.4.3"
  }
 },
 "nbformat": 4,
 "nbformat_minor": 0
}
